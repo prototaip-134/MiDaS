{
 "cells": [
  {
   "cell_type": "code",
   "execution_count": 1,
   "metadata": {},
   "outputs": [],
   "source": [
    "import numpy as np\n",
    "import os\n",
    "import shutil\n",
    "import glob\n",
    "import subprocess\n",
    "import sys\n",
    "import cv2"
   ]
  },
  {
   "cell_type": "code",
   "execution_count": 3,
   "metadata": {},
   "outputs": [],
   "source": [
    "# System alterations\n",
    "\n",
    "# Set the print options to avoid truncation\n",
    "np.set_printoptions(threshold=sys.maxsize) # Default threshold is 1000"
   ]
  },
  {
   "cell_type": "code",
   "execution_count": 2,
   "metadata": {},
   "outputs": [],
   "source": [
    "BASE_DEST_DIR = os.path.join(os.sep + 'home', 'jason', 'Documents', 'repositories', 'DeepLabCut', 'examples', 'BiteCountA_pose')\n",
    "MIDAS_BASE_DIR = os.getcwd()\n",
    "MIDAS_INPUT_DIR = os.path.join(MIDAS_BASE_DIR, 'input')\n",
    "MIDAS_OUTPUT_DIR = os.path.join(MIDAS_BASE_DIR, 'output')\n",
    "SOURCE_DEST_DIR = os.path.join(BASE_DEST_DIR, 'extracted')\n",
    "SOURCE2_DEST_DIR = os.path.join(BASE_DEST_DIR, 'video')\n",
    "\n",
    "SUBSETS = ['train']\n",
    "CLASSES = ['cow_bite']\n",
    "SALIENTS = ['salient1', 'salient2']"
   ]
  },
  {
   "cell_type": "markdown",
   "metadata": {},
   "source": [
    "# Pre-Test Depth Estimation"
   ]
  },
  {
   "cell_type": "code",
   "execution_count": 6,
   "metadata": {},
   "outputs": [
    {
     "name": "stdout",
     "output_type": "stream",
     "text": [
      "Copied '/home/jason/Documents/repositories/DeepLabCut/examples/BiteCountA_pose/extracted' to '/home/jason/Documents/repositories/MiDaS/input'\n"
     ]
    }
   ],
   "source": [
    "# Copy directories and files from video directory to input directory\n",
    "os.makedirs(MIDAS_INPUT_DIR, exist_ok=True)\n",
    "shutil.copytree(SOURCE2_DEST_DIR, MIDAS_INPUT_DIR, dirs_exist_ok=True)\n",
    "print(f\"Copied '{SOURCE_DEST_DIR}' to '{MIDAS_INPUT_DIR}'\")"
   ]
  },
  {
   "cell_type": "code",
   "execution_count": null,
   "metadata": {},
   "outputs": [],
   "source": [
    "# Extract frames from videos to images\n",
    "video_files = glob.glob(os.path.join(MIDAS_INPUT_DIR, '**', '*.mp4'), recursive=True)\n",
    "for video_file in video_files:\n",
    "    video_dir = os.path.dirname(video_file)\n",
    "    video_name = os.path.splitext(os.path.basename(video_file))[0]\n",
    "\n",
    "    cap = cv2.VideoCapture(video_file)\n",
    "    frame_num = 0\n",
    "    while True:\n",
    "        ret, frame = cap.read()\n",
    "        if not ret:\n",
    "            break\n",
    "\n",
    "        image = os.path.join(video_dir, f\"{video_name}_{frame_num}.jpg\")\n",
    "        cv2.imwrite(image, frame)\n",
    "        frame_num += 1\n",
    "    cap.release()\n",
    "\n",
    "    print(f\"Processed {frame_num} frames for video: {video_file}\")"
   ]
  },
  {
   "cell_type": "code",
   "execution_count": null,
   "metadata": {},
   "outputs": [],
   "source": [
    "# Remove video files in input directory\n",
    "files = glob.glob(os.path.join(MIDAS_INPUT_DIR, '**', '*.mp4'), recursive=True)\n",
    "\n",
    "# Delete non-JPG files\n",
    "for file in files:\n",
    "    if not file.endswith('.jpg') and not os.path.isdir(file):\n",
    "        try:\n",
    "            os.remove(file)\n",
    "            print(f\"Deleted: {file}\")\n",
    "        except Exception as e:\n",
    "            print(f\"Error deleting {file}: {e}\")"
   ]
  },
  {
   "cell_type": "code",
   "execution_count": null,
   "metadata": {},
   "outputs": [],
   "source": [
    "# Perform depth estimation on all images from pre_test extracted images\n",
    "os.environ[\"MKL_THREADING_LAYER\"] = \"GNU\"\n",
    "\n",
    "video_dirs = glob.glob(os.path.join(MIDAS_INPUT_DIR, '*/'), recursive=True)\n",
    "for video_dir in video_dirs:\n",
    "    input_path = os.path.relpath(video_dir, MIDAS_BASE_DIR)\n",
    "    output_path = os.path.relpath(video_dir.replace('input', 'output'), MIDAS_BASE_DIR)\n",
    "\n",
    "    command = f'python run.py --model_type dpt_swin2_large_384 --input_path {input_path} --output_path {output_path}'\n",
    "    subprocess.run(command, shell=True)"
   ]
  },
  {
   "cell_type": "code",
   "execution_count": null,
   "metadata": {},
   "outputs": [],
   "source": [
    "# Move .pfm files to same location inside extracted directory\n",
    "output_files = glob.glob(os.path.join(MIDAS_OUTPUT_DIR, '**', '*.pfm'), recursive=True)\n",
    "for output_file in output_files:\n",
    "    rel_path = os.path.relpath(output_file, MIDAS_OUTPUT_DIR)\n",
    "    dest_file = os.path.join(SOURCE2_DEST_DIR, rel_path)\n",
    "\n",
    "    destination_dir = os.path.dirname(dest_file)\n",
    "    os.makedirs(destination_dir, exist_ok=True)\n",
    "\n",
    "    shutil.move(output_file, dest_file)\n",
    "    print(f\"Moved {output_file} to {dest_file}\")"
   ]
  },
  {
   "cell_type": "markdown",
   "metadata": {},
   "source": [
    "# Pre-Train Depth Estimation"
   ]
  },
  {
   "cell_type": "code",
   "execution_count": 18,
   "metadata": {},
   "outputs": [
    {
     "name": "stdout",
     "output_type": "stream",
     "text": [
      "Copied '/home/jason/Documents/repositories/DeepLabCut/examples/BiteCountA_pose/extracted' to '/home/jason/Documents/repositories/MiDaS/input'\n"
     ]
    }
   ],
   "source": [
    "# Copy directories and files from extracted directory to input directory\n",
    "os.makedirs(MIDAS_INPUT_DIR, exist_ok=True)\n",
    "shutil.copytree(SOURCE_DEST_DIR, MIDAS_INPUT_DIR, dirs_exist_ok=True)\n",
    "print(f\"Copied '{SOURCE_DEST_DIR}' to '{MIDAS_INPUT_DIR}'\")"
   ]
  },
  {
   "cell_type": "code",
   "execution_count": null,
   "metadata": {},
   "outputs": [],
   "source": [
    "# Perform depth estimation on all images from pre_train extracted images\n",
    "video_dirs = glob.glob(os.path.join(MIDAS_INPUT_DIR, '*/*/*/*/'), recursive=True)\n",
    "for video_dir in video_dirs:\n",
    "    input_path = os.path.relpath(video_dir, MIDAS_BASE_DIR)\n",
    "    output_path = os.path.relpath(video_dir.replace('input', 'output'), MIDAS_BASE_DIR)\n",
    "\n",
    "    command = f'python run.py --model_type dpt_swin2_large_384 --input_path {input_path} --output_path {output_path}'\n",
    "    subprocess.run(command, shell=True)"
   ]
  },
  {
   "cell_type": "code",
   "execution_count": null,
   "metadata": {},
   "outputs": [],
   "source": [
    "# Move .pfm files to same location inside extracted directory\n",
    "output_files = glob.glob(os.path.join(MIDAS_OUTPUT_DIR, '**', '*.pfm'), recursive=True)\n",
    "for output_file in output_files:\n",
    "    rel_path = os.path.relpath(output_file, MIDAS_OUTPUT_DIR)\n",
    "    dest_file = os.path.join(SOURCE_DEST_DIR, rel_path)\n",
    "\n",
    "    destination_dir = os.path.dirname(dest_file)\n",
    "    os.makedirs(destination_dir, exist_ok=True)\n",
    "\n",
    "    shutil.copy2(output_file, dest_file)\n",
    "    print(f\"Moved {output_file} to {dest_file}\")"
   ]
  }
 ],
 "metadata": {
  "kernelspec": {
   "display_name": "Python (midas)",
   "language": "python",
   "name": "midas-py310"
  },
  "language_info": {
   "codemirror_mode": {
    "name": "ipython",
    "version": 3
   },
   "file_extension": ".py",
   "mimetype": "text/x-python",
   "name": "python",
   "nbconvert_exporter": "python",
   "pygments_lexer": "ipython3",
   "version": "3.10.14"
  }
 },
 "nbformat": 4,
 "nbformat_minor": 2
}
